{
  "nbformat": 4,
  "nbformat_minor": 0,
  "metadata": {
    "colab": {
      "provenance": [],
      "collapsed_sections": [
        "eM8ypEVqv5ES"
      ]
    },
    "kernelspec": {
      "name": "python3",
      "display_name": "Python 3"
    },
    "language_info": {
      "name": "python"
    }
  },
  "cells": [
    {
      "cell_type": "code",
      "execution_count": null,
      "metadata": {
        "id": "F9nLizhLfpkP",
        "colab": {
          "base_uri": "https://localhost:8080/"
        },
        "outputId": "d0ca7a30-0768-4778-82f1-c955f82eae50"
      },
      "outputs": [
        {
          "output_type": "stream",
          "name": "stdout",
          "text": [
            "Requirement already satisfied: fastparquet in /usr/local/lib/python3.11/dist-packages (2024.11.0)\n",
            "Requirement already satisfied: pandas>=1.5.0 in /usr/local/lib/python3.11/dist-packages (from fastparquet) (2.2.2)\n",
            "Requirement already satisfied: numpy in /usr/local/lib/python3.11/dist-packages (from fastparquet) (2.0.2)\n",
            "Requirement already satisfied: cramjam>=2.3 in /usr/local/lib/python3.11/dist-packages (from fastparquet) (2.11.0)\n",
            "Requirement already satisfied: fsspec in /usr/local/lib/python3.11/dist-packages (from fastparquet) (2025.3.0)\n",
            "Requirement already satisfied: packaging in /usr/local/lib/python3.11/dist-packages (from fastparquet) (25.0)\n",
            "Requirement already satisfied: python-dateutil>=2.8.2 in /usr/local/lib/python3.11/dist-packages (from pandas>=1.5.0->fastparquet) (2.9.0.post0)\n",
            "Requirement already satisfied: pytz>=2020.1 in /usr/local/lib/python3.11/dist-packages (from pandas>=1.5.0->fastparquet) (2025.2)\n",
            "Requirement already satisfied: tzdata>=2022.7 in /usr/local/lib/python3.11/dist-packages (from pandas>=1.5.0->fastparquet) (2025.2)\n",
            "Requirement already satisfied: six>=1.5 in /usr/local/lib/python3.11/dist-packages (from python-dateutil>=2.8.2->pandas>=1.5.0->fastparquet) (1.17.0)\n"
          ]
        }
      ],
      "source": [
        "!pip install fastparquet\n",
        "import pandas as pd\n",
        "import fastparquet\n",
        "import numpy as np"
      ]
    },
    {
      "cell_type": "markdown",
      "source": [
        "# Чтение и загрузка данных"
      ],
      "metadata": {
        "id": "eM8ypEVqv5ES"
      }
    },
    {
      "cell_type": "code",
      "source": [
        "# настройка ссылок для прочтения файла\n",
        "path_currency = r'/content/historical_currency_exchange.parquet'\n",
        "path_transactions = r'/content/transaction_fraud_data.parquet'"
      ],
      "metadata": {
        "id": "QK7c5TzRgB7s"
      },
      "execution_count": null,
      "outputs": []
    },
    {
      "cell_type": "code",
      "source": [
        "# pip install fastparquet"
      ],
      "metadata": {
        "id": "5CJe1wRqk8xU"
      },
      "execution_count": null,
      "outputs": []
    },
    {
      "cell_type": "code",
      "source": [
        "# Чтение файлов\n",
        "currency_df = pd.read_parquet(path_currency)\n",
        "transactions_df = pd.read_parquet(path_transactions, engine='fastparquet')"
      ],
      "metadata": {
        "id": "f1kcYxa5hmCD"
      },
      "execution_count": null,
      "outputs": []
    },
    {
      "cell_type": "code",
      "source": [
        "# просмотр данных\n",
        "transactions_df.head(5)"
      ],
      "metadata": {
        "colab": {
          "base_uri": "https://localhost:8080/",
          "height": 342
        },
        "id": "KZn2hykOgCPq",
        "outputId": "6f747003-fcfb-4d73-915a-141e08ee5d8a"
      },
      "execution_count": null,
      "outputs": [
        {
          "output_type": "execute_result",
          "data": {
            "text/plain": [
              "  transaction_id customer_id       card_number                  timestamp  \\\n",
              "0    TX_a0ad2a2a  CUST_72886  6646734767813109 2024-09-30 00:00:01.034820   \n",
              "1    TX_3599c101  CUST_70474   376800864692727 2024-09-30 00:00:01.764464   \n",
              "2    TX_a9461c6d  CUST_10715  5251909460951913 2024-09-30 00:00:02.273762   \n",
              "3    TX_7be21fc4  CUST_16193   376079286931183 2024-09-30 00:00:02.297466   \n",
              "4    TX_150f490b  CUST_87572  6172948052178810 2024-09-30 00:00:02.544063   \n",
              "\n",
              "  vendor_category vendor_type          vendor     amount currency    country  \\\n",
              "0      Restaurant   fast_food       Taco Bell     294.87      GBP         UK   \n",
              "1   Entertainment      gaming           Steam    3368.97      BRL     Brazil   \n",
              "2         Grocery    physical     Whole Foods  102582.38      JPY      Japan   \n",
              "3             Gas       major           Exxon     630.60      AUD  Australia   \n",
              "4      Healthcare     medical  Medical Center  724949.27      NGN    Nigeria   \n",
              "\n",
              "   ...       ip_address is_outside_home_country is_high_risk_vendor  \\\n",
              "0  ...   197.153.60.199                   False               False   \n",
              "1  ...  208.123.221.203                    True                True   \n",
              "2  ...   10.194.159.204                   False               False   \n",
              "3  ...   17.230.177.225                   False               False   \n",
              "4  ...  136.241.219.151                    True               False   \n",
              "\n",
              "   is_weekend is_fraud last_hour_activity.num_transactions  \\\n",
              "0       False    False                                1197   \n",
              "1       False     True                                 509   \n",
              "2       False    False                                 332   \n",
              "3       False    False                                 764   \n",
              "4       False     True                                 218   \n",
              "\n",
              "  last_hour_activity.total_amount last_hour_activity.unique_merchants  \\\n",
              "0                    3.349856e+07                                 105   \n",
              "1                    2.011476e+07                                 100   \n",
              "2                    3.916385e+07                                  97   \n",
              "3                    2.201260e+07                                 105   \n",
              "4                    4.827636e+06                                  88   \n",
              "\n",
              "   last_hour_activity.unique_countries  last_hour_activity.max_single_amount  \n",
              "0                                   12                          1.925481e+06  \n",
              "1                                   12                          5.149117e+06  \n",
              "2                                   12                          1.852242e+06  \n",
              "3                                   12                          2.055798e+06  \n",
              "4                                   12                          1.157231e+06  \n",
              "\n",
              "[5 rows x 27 columns]"
            ],
            "text/html": [
              "\n",
              "  <div id=\"df-187f9429-0cc8-4044-9056-76bc2fdf5949\" class=\"colab-df-container\">\n",
              "    <div>\n",
              "<style scoped>\n",
              "    .dataframe tbody tr th:only-of-type {\n",
              "        vertical-align: middle;\n",
              "    }\n",
              "\n",
              "    .dataframe tbody tr th {\n",
              "        vertical-align: top;\n",
              "    }\n",
              "\n",
              "    .dataframe thead th {\n",
              "        text-align: right;\n",
              "    }\n",
              "</style>\n",
              "<table border=\"1\" class=\"dataframe\">\n",
              "  <thead>\n",
              "    <tr style=\"text-align: right;\">\n",
              "      <th></th>\n",
              "      <th>transaction_id</th>\n",
              "      <th>customer_id</th>\n",
              "      <th>card_number</th>\n",
              "      <th>timestamp</th>\n",
              "      <th>vendor_category</th>\n",
              "      <th>vendor_type</th>\n",
              "      <th>vendor</th>\n",
              "      <th>amount</th>\n",
              "      <th>currency</th>\n",
              "      <th>country</th>\n",
              "      <th>...</th>\n",
              "      <th>ip_address</th>\n",
              "      <th>is_outside_home_country</th>\n",
              "      <th>is_high_risk_vendor</th>\n",
              "      <th>is_weekend</th>\n",
              "      <th>is_fraud</th>\n",
              "      <th>last_hour_activity.num_transactions</th>\n",
              "      <th>last_hour_activity.total_amount</th>\n",
              "      <th>last_hour_activity.unique_merchants</th>\n",
              "      <th>last_hour_activity.unique_countries</th>\n",
              "      <th>last_hour_activity.max_single_amount</th>\n",
              "    </tr>\n",
              "  </thead>\n",
              "  <tbody>\n",
              "    <tr>\n",
              "      <th>0</th>\n",
              "      <td>TX_a0ad2a2a</td>\n",
              "      <td>CUST_72886</td>\n",
              "      <td>6646734767813109</td>\n",
              "      <td>2024-09-30 00:00:01.034820</td>\n",
              "      <td>Restaurant</td>\n",
              "      <td>fast_food</td>\n",
              "      <td>Taco Bell</td>\n",
              "      <td>294.87</td>\n",
              "      <td>GBP</td>\n",
              "      <td>UK</td>\n",
              "      <td>...</td>\n",
              "      <td>197.153.60.199</td>\n",
              "      <td>False</td>\n",
              "      <td>False</td>\n",
              "      <td>False</td>\n",
              "      <td>False</td>\n",
              "      <td>1197</td>\n",
              "      <td>3.349856e+07</td>\n",
              "      <td>105</td>\n",
              "      <td>12</td>\n",
              "      <td>1.925481e+06</td>\n",
              "    </tr>\n",
              "    <tr>\n",
              "      <th>1</th>\n",
              "      <td>TX_3599c101</td>\n",
              "      <td>CUST_70474</td>\n",
              "      <td>376800864692727</td>\n",
              "      <td>2024-09-30 00:00:01.764464</td>\n",
              "      <td>Entertainment</td>\n",
              "      <td>gaming</td>\n",
              "      <td>Steam</td>\n",
              "      <td>3368.97</td>\n",
              "      <td>BRL</td>\n",
              "      <td>Brazil</td>\n",
              "      <td>...</td>\n",
              "      <td>208.123.221.203</td>\n",
              "      <td>True</td>\n",
              "      <td>True</td>\n",
              "      <td>False</td>\n",
              "      <td>True</td>\n",
              "      <td>509</td>\n",
              "      <td>2.011476e+07</td>\n",
              "      <td>100</td>\n",
              "      <td>12</td>\n",
              "      <td>5.149117e+06</td>\n",
              "    </tr>\n",
              "    <tr>\n",
              "      <th>2</th>\n",
              "      <td>TX_a9461c6d</td>\n",
              "      <td>CUST_10715</td>\n",
              "      <td>5251909460951913</td>\n",
              "      <td>2024-09-30 00:00:02.273762</td>\n",
              "      <td>Grocery</td>\n",
              "      <td>physical</td>\n",
              "      <td>Whole Foods</td>\n",
              "      <td>102582.38</td>\n",
              "      <td>JPY</td>\n",
              "      <td>Japan</td>\n",
              "      <td>...</td>\n",
              "      <td>10.194.159.204</td>\n",
              "      <td>False</td>\n",
              "      <td>False</td>\n",
              "      <td>False</td>\n",
              "      <td>False</td>\n",
              "      <td>332</td>\n",
              "      <td>3.916385e+07</td>\n",
              "      <td>97</td>\n",
              "      <td>12</td>\n",
              "      <td>1.852242e+06</td>\n",
              "    </tr>\n",
              "    <tr>\n",
              "      <th>3</th>\n",
              "      <td>TX_7be21fc4</td>\n",
              "      <td>CUST_16193</td>\n",
              "      <td>376079286931183</td>\n",
              "      <td>2024-09-30 00:00:02.297466</td>\n",
              "      <td>Gas</td>\n",
              "      <td>major</td>\n",
              "      <td>Exxon</td>\n",
              "      <td>630.60</td>\n",
              "      <td>AUD</td>\n",
              "      <td>Australia</td>\n",
              "      <td>...</td>\n",
              "      <td>17.230.177.225</td>\n",
              "      <td>False</td>\n",
              "      <td>False</td>\n",
              "      <td>False</td>\n",
              "      <td>False</td>\n",
              "      <td>764</td>\n",
              "      <td>2.201260e+07</td>\n",
              "      <td>105</td>\n",
              "      <td>12</td>\n",
              "      <td>2.055798e+06</td>\n",
              "    </tr>\n",
              "    <tr>\n",
              "      <th>4</th>\n",
              "      <td>TX_150f490b</td>\n",
              "      <td>CUST_87572</td>\n",
              "      <td>6172948052178810</td>\n",
              "      <td>2024-09-30 00:00:02.544063</td>\n",
              "      <td>Healthcare</td>\n",
              "      <td>medical</td>\n",
              "      <td>Medical Center</td>\n",
              "      <td>724949.27</td>\n",
              "      <td>NGN</td>\n",
              "      <td>Nigeria</td>\n",
              "      <td>...</td>\n",
              "      <td>136.241.219.151</td>\n",
              "      <td>True</td>\n",
              "      <td>False</td>\n",
              "      <td>False</td>\n",
              "      <td>True</td>\n",
              "      <td>218</td>\n",
              "      <td>4.827636e+06</td>\n",
              "      <td>88</td>\n",
              "      <td>12</td>\n",
              "      <td>1.157231e+06</td>\n",
              "    </tr>\n",
              "  </tbody>\n",
              "</table>\n",
              "<p>5 rows × 27 columns</p>\n",
              "</div>\n",
              "    <div class=\"colab-df-buttons\">\n",
              "\n",
              "  <div class=\"colab-df-container\">\n",
              "    <button class=\"colab-df-convert\" onclick=\"convertToInteractive('df-187f9429-0cc8-4044-9056-76bc2fdf5949')\"\n",
              "            title=\"Convert this dataframe to an interactive table.\"\n",
              "            style=\"display:none;\">\n",
              "\n",
              "  <svg xmlns=\"http://www.w3.org/2000/svg\" height=\"24px\" viewBox=\"0 -960 960 960\">\n",
              "    <path d=\"M120-120v-720h720v720H120Zm60-500h600v-160H180v160Zm220 220h160v-160H400v160Zm0 220h160v-160H400v160ZM180-400h160v-160H180v160Zm440 0h160v-160H620v160ZM180-180h160v-160H180v160Zm440 0h160v-160H620v160Z\"/>\n",
              "  </svg>\n",
              "    </button>\n",
              "\n",
              "  <style>\n",
              "    .colab-df-container {\n",
              "      display:flex;\n",
              "      gap: 12px;\n",
              "    }\n",
              "\n",
              "    .colab-df-convert {\n",
              "      background-color: #E8F0FE;\n",
              "      border: none;\n",
              "      border-radius: 50%;\n",
              "      cursor: pointer;\n",
              "      display: none;\n",
              "      fill: #1967D2;\n",
              "      height: 32px;\n",
              "      padding: 0 0 0 0;\n",
              "      width: 32px;\n",
              "    }\n",
              "\n",
              "    .colab-df-convert:hover {\n",
              "      background-color: #E2EBFA;\n",
              "      box-shadow: 0px 1px 2px rgba(60, 64, 67, 0.3), 0px 1px 3px 1px rgba(60, 64, 67, 0.15);\n",
              "      fill: #174EA6;\n",
              "    }\n",
              "\n",
              "    .colab-df-buttons div {\n",
              "      margin-bottom: 4px;\n",
              "    }\n",
              "\n",
              "    [theme=dark] .colab-df-convert {\n",
              "      background-color: #3B4455;\n",
              "      fill: #D2E3FC;\n",
              "    }\n",
              "\n",
              "    [theme=dark] .colab-df-convert:hover {\n",
              "      background-color: #434B5C;\n",
              "      box-shadow: 0px 1px 3px 1px rgba(0, 0, 0, 0.15);\n",
              "      filter: drop-shadow(0px 1px 2px rgba(0, 0, 0, 0.3));\n",
              "      fill: #FFFFFF;\n",
              "    }\n",
              "  </style>\n",
              "\n",
              "    <script>\n",
              "      const buttonEl =\n",
              "        document.querySelector('#df-187f9429-0cc8-4044-9056-76bc2fdf5949 button.colab-df-convert');\n",
              "      buttonEl.style.display =\n",
              "        google.colab.kernel.accessAllowed ? 'block' : 'none';\n",
              "\n",
              "      async function convertToInteractive(key) {\n",
              "        const element = document.querySelector('#df-187f9429-0cc8-4044-9056-76bc2fdf5949');\n",
              "        const dataTable =\n",
              "          await google.colab.kernel.invokeFunction('convertToInteractive',\n",
              "                                                    [key], {});\n",
              "        if (!dataTable) return;\n",
              "\n",
              "        const docLinkHtml = 'Like what you see? Visit the ' +\n",
              "          '<a target=\"_blank\" href=https://colab.research.google.com/notebooks/data_table.ipynb>data table notebook</a>'\n",
              "          + ' to learn more about interactive tables.';\n",
              "        element.innerHTML = '';\n",
              "        dataTable['output_type'] = 'display_data';\n",
              "        await google.colab.output.renderOutput(dataTable, element);\n",
              "        const docLink = document.createElement('div');\n",
              "        docLink.innerHTML = docLinkHtml;\n",
              "        element.appendChild(docLink);\n",
              "      }\n",
              "    </script>\n",
              "  </div>\n",
              "\n",
              "\n",
              "    <div id=\"df-1224b3f2-ff6f-4c9e-8b78-469565e6a9c5\">\n",
              "      <button class=\"colab-df-quickchart\" onclick=\"quickchart('df-1224b3f2-ff6f-4c9e-8b78-469565e6a9c5')\"\n",
              "                title=\"Suggest charts\"\n",
              "                style=\"display:none;\">\n",
              "\n",
              "<svg xmlns=\"http://www.w3.org/2000/svg\" height=\"24px\"viewBox=\"0 0 24 24\"\n",
              "     width=\"24px\">\n",
              "    <g>\n",
              "        <path d=\"M19 3H5c-1.1 0-2 .9-2 2v14c0 1.1.9 2 2 2h14c1.1 0 2-.9 2-2V5c0-1.1-.9-2-2-2zM9 17H7v-7h2v7zm4 0h-2V7h2v10zm4 0h-2v-4h2v4z\"/>\n",
              "    </g>\n",
              "</svg>\n",
              "      </button>\n",
              "\n",
              "<style>\n",
              "  .colab-df-quickchart {\n",
              "      --bg-color: #E8F0FE;\n",
              "      --fill-color: #1967D2;\n",
              "      --hover-bg-color: #E2EBFA;\n",
              "      --hover-fill-color: #174EA6;\n",
              "      --disabled-fill-color: #AAA;\n",
              "      --disabled-bg-color: #DDD;\n",
              "  }\n",
              "\n",
              "  [theme=dark] .colab-df-quickchart {\n",
              "      --bg-color: #3B4455;\n",
              "      --fill-color: #D2E3FC;\n",
              "      --hover-bg-color: #434B5C;\n",
              "      --hover-fill-color: #FFFFFF;\n",
              "      --disabled-bg-color: #3B4455;\n",
              "      --disabled-fill-color: #666;\n",
              "  }\n",
              "\n",
              "  .colab-df-quickchart {\n",
              "    background-color: var(--bg-color);\n",
              "    border: none;\n",
              "    border-radius: 50%;\n",
              "    cursor: pointer;\n",
              "    display: none;\n",
              "    fill: var(--fill-color);\n",
              "    height: 32px;\n",
              "    padding: 0;\n",
              "    width: 32px;\n",
              "  }\n",
              "\n",
              "  .colab-df-quickchart:hover {\n",
              "    background-color: var(--hover-bg-color);\n",
              "    box-shadow: 0 1px 2px rgba(60, 64, 67, 0.3), 0 1px 3px 1px rgba(60, 64, 67, 0.15);\n",
              "    fill: var(--button-hover-fill-color);\n",
              "  }\n",
              "\n",
              "  .colab-df-quickchart-complete:disabled,\n",
              "  .colab-df-quickchart-complete:disabled:hover {\n",
              "    background-color: var(--disabled-bg-color);\n",
              "    fill: var(--disabled-fill-color);\n",
              "    box-shadow: none;\n",
              "  }\n",
              "\n",
              "  .colab-df-spinner {\n",
              "    border: 2px solid var(--fill-color);\n",
              "    border-color: transparent;\n",
              "    border-bottom-color: var(--fill-color);\n",
              "    animation:\n",
              "      spin 1s steps(1) infinite;\n",
              "  }\n",
              "\n",
              "  @keyframes spin {\n",
              "    0% {\n",
              "      border-color: transparent;\n",
              "      border-bottom-color: var(--fill-color);\n",
              "      border-left-color: var(--fill-color);\n",
              "    }\n",
              "    20% {\n",
              "      border-color: transparent;\n",
              "      border-left-color: var(--fill-color);\n",
              "      border-top-color: var(--fill-color);\n",
              "    }\n",
              "    30% {\n",
              "      border-color: transparent;\n",
              "      border-left-color: var(--fill-color);\n",
              "      border-top-color: var(--fill-color);\n",
              "      border-right-color: var(--fill-color);\n",
              "    }\n",
              "    40% {\n",
              "      border-color: transparent;\n",
              "      border-right-color: var(--fill-color);\n",
              "      border-top-color: var(--fill-color);\n",
              "    }\n",
              "    60% {\n",
              "      border-color: transparent;\n",
              "      border-right-color: var(--fill-color);\n",
              "    }\n",
              "    80% {\n",
              "      border-color: transparent;\n",
              "      border-right-color: var(--fill-color);\n",
              "      border-bottom-color: var(--fill-color);\n",
              "    }\n",
              "    90% {\n",
              "      border-color: transparent;\n",
              "      border-bottom-color: var(--fill-color);\n",
              "    }\n",
              "  }\n",
              "</style>\n",
              "\n",
              "      <script>\n",
              "        async function quickchart(key) {\n",
              "          const quickchartButtonEl =\n",
              "            document.querySelector('#' + key + ' button');\n",
              "          quickchartButtonEl.disabled = true;  // To prevent multiple clicks.\n",
              "          quickchartButtonEl.classList.add('colab-df-spinner');\n",
              "          try {\n",
              "            const charts = await google.colab.kernel.invokeFunction(\n",
              "                'suggestCharts', [key], {});\n",
              "          } catch (error) {\n",
              "            console.error('Error during call to suggestCharts:', error);\n",
              "          }\n",
              "          quickchartButtonEl.classList.remove('colab-df-spinner');\n",
              "          quickchartButtonEl.classList.add('colab-df-quickchart-complete');\n",
              "        }\n",
              "        (() => {\n",
              "          let quickchartButtonEl =\n",
              "            document.querySelector('#df-1224b3f2-ff6f-4c9e-8b78-469565e6a9c5 button');\n",
              "          quickchartButtonEl.style.display =\n",
              "            google.colab.kernel.accessAllowed ? 'block' : 'none';\n",
              "        })();\n",
              "      </script>\n",
              "    </div>\n",
              "    </div>\n",
              "  </div>\n"
            ],
            "application/vnd.google.colaboratory.intrinsic+json": {
              "type": "dataframe",
              "variable_name": "transactions_df"
            }
          },
          "metadata": {},
          "execution_count": 6
        }
      ]
    },
    {
      "cell_type": "code",
      "source": [
        "transactions_df.shape"
      ],
      "metadata": {
        "colab": {
          "base_uri": "https://localhost:8080/"
        },
        "id": "GvzvI9w_nAAu",
        "outputId": "0246f98f-269a-4301-c745-b77ce4c7b009"
      },
      "execution_count": null,
      "outputs": [
        {
          "output_type": "execute_result",
          "data": {
            "text/plain": [
              "(7483766, 27)"
            ]
          },
          "metadata": {},
          "execution_count": 7
        }
      ]
    },
    {
      "cell_type": "code",
      "source": [
        "# просмотр данных\n",
        "currency_df.head()"
      ],
      "metadata": {
        "colab": {
          "base_uri": "https://localhost:8080/",
          "height": 206
        },
        "id": "5gTC3h-BgCZm",
        "outputId": "7238576d-3ad7-4169-c28d-d2ff39039c20"
      },
      "execution_count": null,
      "outputs": [
        {
          "output_type": "execute_result",
          "data": {
            "text/plain": [
              "         date       AUD       BRL       CAD       EUR       GBP         JPY  \\\n",
              "0  2024-09-30  1.443654  5.434649  1.351196  0.895591  0.747153  142.573268   \n",
              "1  2024-10-01  1.442917  5.444170  1.352168  0.897557  0.746956  143.831429   \n",
              "2  2024-10-02  1.449505  5.425444  1.348063  0.903056  0.752241  143.806861   \n",
              "3  2024-10-03  1.456279  5.442044  1.351451  0.906018  0.754584  146.916773   \n",
              "4  2024-10-04  1.460930  5.477788  1.355260  0.906452  0.761891  146.592323   \n",
              "\n",
              "         MXN          NGN        RUB       SGD  USD  \n",
              "0  19.694724  1668.736400  94.133735  1.280156    1  \n",
              "1  19.667561  1670.694524  92.898519  1.284352    1  \n",
              "2  19.606748  1669.653006  94.583198  1.286983    1  \n",
              "3  19.457701  1670.097873  95.655442  1.294391    1  \n",
              "4  19.363467  1649.763738  94.755337  1.296800    1  "
            ],
            "text/html": [
              "\n",
              "  <div id=\"df-2ff36222-27fd-4195-9ee2-d59ab0584791\" class=\"colab-df-container\">\n",
              "    <div>\n",
              "<style scoped>\n",
              "    .dataframe tbody tr th:only-of-type {\n",
              "        vertical-align: middle;\n",
              "    }\n",
              "\n",
              "    .dataframe tbody tr th {\n",
              "        vertical-align: top;\n",
              "    }\n",
              "\n",
              "    .dataframe thead th {\n",
              "        text-align: right;\n",
              "    }\n",
              "</style>\n",
              "<table border=\"1\" class=\"dataframe\">\n",
              "  <thead>\n",
              "    <tr style=\"text-align: right;\">\n",
              "      <th></th>\n",
              "      <th>date</th>\n",
              "      <th>AUD</th>\n",
              "      <th>BRL</th>\n",
              "      <th>CAD</th>\n",
              "      <th>EUR</th>\n",
              "      <th>GBP</th>\n",
              "      <th>JPY</th>\n",
              "      <th>MXN</th>\n",
              "      <th>NGN</th>\n",
              "      <th>RUB</th>\n",
              "      <th>SGD</th>\n",
              "      <th>USD</th>\n",
              "    </tr>\n",
              "  </thead>\n",
              "  <tbody>\n",
              "    <tr>\n",
              "      <th>0</th>\n",
              "      <td>2024-09-30</td>\n",
              "      <td>1.443654</td>\n",
              "      <td>5.434649</td>\n",
              "      <td>1.351196</td>\n",
              "      <td>0.895591</td>\n",
              "      <td>0.747153</td>\n",
              "      <td>142.573268</td>\n",
              "      <td>19.694724</td>\n",
              "      <td>1668.736400</td>\n",
              "      <td>94.133735</td>\n",
              "      <td>1.280156</td>\n",
              "      <td>1</td>\n",
              "    </tr>\n",
              "    <tr>\n",
              "      <th>1</th>\n",
              "      <td>2024-10-01</td>\n",
              "      <td>1.442917</td>\n",
              "      <td>5.444170</td>\n",
              "      <td>1.352168</td>\n",
              "      <td>0.897557</td>\n",
              "      <td>0.746956</td>\n",
              "      <td>143.831429</td>\n",
              "      <td>19.667561</td>\n",
              "      <td>1670.694524</td>\n",
              "      <td>92.898519</td>\n",
              "      <td>1.284352</td>\n",
              "      <td>1</td>\n",
              "    </tr>\n",
              "    <tr>\n",
              "      <th>2</th>\n",
              "      <td>2024-10-02</td>\n",
              "      <td>1.449505</td>\n",
              "      <td>5.425444</td>\n",
              "      <td>1.348063</td>\n",
              "      <td>0.903056</td>\n",
              "      <td>0.752241</td>\n",
              "      <td>143.806861</td>\n",
              "      <td>19.606748</td>\n",
              "      <td>1669.653006</td>\n",
              "      <td>94.583198</td>\n",
              "      <td>1.286983</td>\n",
              "      <td>1</td>\n",
              "    </tr>\n",
              "    <tr>\n",
              "      <th>3</th>\n",
              "      <td>2024-10-03</td>\n",
              "      <td>1.456279</td>\n",
              "      <td>5.442044</td>\n",
              "      <td>1.351451</td>\n",
              "      <td>0.906018</td>\n",
              "      <td>0.754584</td>\n",
              "      <td>146.916773</td>\n",
              "      <td>19.457701</td>\n",
              "      <td>1670.097873</td>\n",
              "      <td>95.655442</td>\n",
              "      <td>1.294391</td>\n",
              "      <td>1</td>\n",
              "    </tr>\n",
              "    <tr>\n",
              "      <th>4</th>\n",
              "      <td>2024-10-04</td>\n",
              "      <td>1.460930</td>\n",
              "      <td>5.477788</td>\n",
              "      <td>1.355260</td>\n",
              "      <td>0.906452</td>\n",
              "      <td>0.761891</td>\n",
              "      <td>146.592323</td>\n",
              "      <td>19.363467</td>\n",
              "      <td>1649.763738</td>\n",
              "      <td>94.755337</td>\n",
              "      <td>1.296800</td>\n",
              "      <td>1</td>\n",
              "    </tr>\n",
              "  </tbody>\n",
              "</table>\n",
              "</div>\n",
              "    <div class=\"colab-df-buttons\">\n",
              "\n",
              "  <div class=\"colab-df-container\">\n",
              "    <button class=\"colab-df-convert\" onclick=\"convertToInteractive('df-2ff36222-27fd-4195-9ee2-d59ab0584791')\"\n",
              "            title=\"Convert this dataframe to an interactive table.\"\n",
              "            style=\"display:none;\">\n",
              "\n",
              "  <svg xmlns=\"http://www.w3.org/2000/svg\" height=\"24px\" viewBox=\"0 -960 960 960\">\n",
              "    <path d=\"M120-120v-720h720v720H120Zm60-500h600v-160H180v160Zm220 220h160v-160H400v160Zm0 220h160v-160H400v160ZM180-400h160v-160H180v160Zm440 0h160v-160H620v160ZM180-180h160v-160H180v160Zm440 0h160v-160H620v160Z\"/>\n",
              "  </svg>\n",
              "    </button>\n",
              "\n",
              "  <style>\n",
              "    .colab-df-container {\n",
              "      display:flex;\n",
              "      gap: 12px;\n",
              "    }\n",
              "\n",
              "    .colab-df-convert {\n",
              "      background-color: #E8F0FE;\n",
              "      border: none;\n",
              "      border-radius: 50%;\n",
              "      cursor: pointer;\n",
              "      display: none;\n",
              "      fill: #1967D2;\n",
              "      height: 32px;\n",
              "      padding: 0 0 0 0;\n",
              "      width: 32px;\n",
              "    }\n",
              "\n",
              "    .colab-df-convert:hover {\n",
              "      background-color: #E2EBFA;\n",
              "      box-shadow: 0px 1px 2px rgba(60, 64, 67, 0.3), 0px 1px 3px 1px rgba(60, 64, 67, 0.15);\n",
              "      fill: #174EA6;\n",
              "    }\n",
              "\n",
              "    .colab-df-buttons div {\n",
              "      margin-bottom: 4px;\n",
              "    }\n",
              "\n",
              "    [theme=dark] .colab-df-convert {\n",
              "      background-color: #3B4455;\n",
              "      fill: #D2E3FC;\n",
              "    }\n",
              "\n",
              "    [theme=dark] .colab-df-convert:hover {\n",
              "      background-color: #434B5C;\n",
              "      box-shadow: 0px 1px 3px 1px rgba(0, 0, 0, 0.15);\n",
              "      filter: drop-shadow(0px 1px 2px rgba(0, 0, 0, 0.3));\n",
              "      fill: #FFFFFF;\n",
              "    }\n",
              "  </style>\n",
              "\n",
              "    <script>\n",
              "      const buttonEl =\n",
              "        document.querySelector('#df-2ff36222-27fd-4195-9ee2-d59ab0584791 button.colab-df-convert');\n",
              "      buttonEl.style.display =\n",
              "        google.colab.kernel.accessAllowed ? 'block' : 'none';\n",
              "\n",
              "      async function convertToInteractive(key) {\n",
              "        const element = document.querySelector('#df-2ff36222-27fd-4195-9ee2-d59ab0584791');\n",
              "        const dataTable =\n",
              "          await google.colab.kernel.invokeFunction('convertToInteractive',\n",
              "                                                    [key], {});\n",
              "        if (!dataTable) return;\n",
              "\n",
              "        const docLinkHtml = 'Like what you see? Visit the ' +\n",
              "          '<a target=\"_blank\" href=https://colab.research.google.com/notebooks/data_table.ipynb>data table notebook</a>'\n",
              "          + ' to learn more about interactive tables.';\n",
              "        element.innerHTML = '';\n",
              "        dataTable['output_type'] = 'display_data';\n",
              "        await google.colab.output.renderOutput(dataTable, element);\n",
              "        const docLink = document.createElement('div');\n",
              "        docLink.innerHTML = docLinkHtml;\n",
              "        element.appendChild(docLink);\n",
              "      }\n",
              "    </script>\n",
              "  </div>\n",
              "\n",
              "\n",
              "    <div id=\"df-ea1b06ef-7446-4a9a-bbd8-b3128a1e1a64\">\n",
              "      <button class=\"colab-df-quickchart\" onclick=\"quickchart('df-ea1b06ef-7446-4a9a-bbd8-b3128a1e1a64')\"\n",
              "                title=\"Suggest charts\"\n",
              "                style=\"display:none;\">\n",
              "\n",
              "<svg xmlns=\"http://www.w3.org/2000/svg\" height=\"24px\"viewBox=\"0 0 24 24\"\n",
              "     width=\"24px\">\n",
              "    <g>\n",
              "        <path d=\"M19 3H5c-1.1 0-2 .9-2 2v14c0 1.1.9 2 2 2h14c1.1 0 2-.9 2-2V5c0-1.1-.9-2-2-2zM9 17H7v-7h2v7zm4 0h-2V7h2v10zm4 0h-2v-4h2v4z\"/>\n",
              "    </g>\n",
              "</svg>\n",
              "      </button>\n",
              "\n",
              "<style>\n",
              "  .colab-df-quickchart {\n",
              "      --bg-color: #E8F0FE;\n",
              "      --fill-color: #1967D2;\n",
              "      --hover-bg-color: #E2EBFA;\n",
              "      --hover-fill-color: #174EA6;\n",
              "      --disabled-fill-color: #AAA;\n",
              "      --disabled-bg-color: #DDD;\n",
              "  }\n",
              "\n",
              "  [theme=dark] .colab-df-quickchart {\n",
              "      --bg-color: #3B4455;\n",
              "      --fill-color: #D2E3FC;\n",
              "      --hover-bg-color: #434B5C;\n",
              "      --hover-fill-color: #FFFFFF;\n",
              "      --disabled-bg-color: #3B4455;\n",
              "      --disabled-fill-color: #666;\n",
              "  }\n",
              "\n",
              "  .colab-df-quickchart {\n",
              "    background-color: var(--bg-color);\n",
              "    border: none;\n",
              "    border-radius: 50%;\n",
              "    cursor: pointer;\n",
              "    display: none;\n",
              "    fill: var(--fill-color);\n",
              "    height: 32px;\n",
              "    padding: 0;\n",
              "    width: 32px;\n",
              "  }\n",
              "\n",
              "  .colab-df-quickchart:hover {\n",
              "    background-color: var(--hover-bg-color);\n",
              "    box-shadow: 0 1px 2px rgba(60, 64, 67, 0.3), 0 1px 3px 1px rgba(60, 64, 67, 0.15);\n",
              "    fill: var(--button-hover-fill-color);\n",
              "  }\n",
              "\n",
              "  .colab-df-quickchart-complete:disabled,\n",
              "  .colab-df-quickchart-complete:disabled:hover {\n",
              "    background-color: var(--disabled-bg-color);\n",
              "    fill: var(--disabled-fill-color);\n",
              "    box-shadow: none;\n",
              "  }\n",
              "\n",
              "  .colab-df-spinner {\n",
              "    border: 2px solid var(--fill-color);\n",
              "    border-color: transparent;\n",
              "    border-bottom-color: var(--fill-color);\n",
              "    animation:\n",
              "      spin 1s steps(1) infinite;\n",
              "  }\n",
              "\n",
              "  @keyframes spin {\n",
              "    0% {\n",
              "      border-color: transparent;\n",
              "      border-bottom-color: var(--fill-color);\n",
              "      border-left-color: var(--fill-color);\n",
              "    }\n",
              "    20% {\n",
              "      border-color: transparent;\n",
              "      border-left-color: var(--fill-color);\n",
              "      border-top-color: var(--fill-color);\n",
              "    }\n",
              "    30% {\n",
              "      border-color: transparent;\n",
              "      border-left-color: var(--fill-color);\n",
              "      border-top-color: var(--fill-color);\n",
              "      border-right-color: var(--fill-color);\n",
              "    }\n",
              "    40% {\n",
              "      border-color: transparent;\n",
              "      border-right-color: var(--fill-color);\n",
              "      border-top-color: var(--fill-color);\n",
              "    }\n",
              "    60% {\n",
              "      border-color: transparent;\n",
              "      border-right-color: var(--fill-color);\n",
              "    }\n",
              "    80% {\n",
              "      border-color: transparent;\n",
              "      border-right-color: var(--fill-color);\n",
              "      border-bottom-color: var(--fill-color);\n",
              "    }\n",
              "    90% {\n",
              "      border-color: transparent;\n",
              "      border-bottom-color: var(--fill-color);\n",
              "    }\n",
              "  }\n",
              "</style>\n",
              "\n",
              "      <script>\n",
              "        async function quickchart(key) {\n",
              "          const quickchartButtonEl =\n",
              "            document.querySelector('#' + key + ' button');\n",
              "          quickchartButtonEl.disabled = true;  // To prevent multiple clicks.\n",
              "          quickchartButtonEl.classList.add('colab-df-spinner');\n",
              "          try {\n",
              "            const charts = await google.colab.kernel.invokeFunction(\n",
              "                'suggestCharts', [key], {});\n",
              "          } catch (error) {\n",
              "            console.error('Error during call to suggestCharts:', error);\n",
              "          }\n",
              "          quickchartButtonEl.classList.remove('colab-df-spinner');\n",
              "          quickchartButtonEl.classList.add('colab-df-quickchart-complete');\n",
              "        }\n",
              "        (() => {\n",
              "          let quickchartButtonEl =\n",
              "            document.querySelector('#df-ea1b06ef-7446-4a9a-bbd8-b3128a1e1a64 button');\n",
              "          quickchartButtonEl.style.display =\n",
              "            google.colab.kernel.accessAllowed ? 'block' : 'none';\n",
              "        })();\n",
              "      </script>\n",
              "    </div>\n",
              "    </div>\n",
              "  </div>\n"
            ],
            "application/vnd.google.colaboratory.intrinsic+json": {
              "type": "dataframe",
              "variable_name": "currency_df",
              "summary": "{\n  \"name\": \"currency_df\",\n  \"rows\": 31,\n  \"fields\": [\n    {\n      \"column\": \"date\",\n      \"properties\": {\n        \"dtype\": \"date\",\n        \"min\": \"2024-09-30\",\n        \"max\": \"2024-10-30\",\n        \"num_unique_values\": 31,\n        \"samples\": [\n          \"2024-10-27\",\n          \"2024-10-15\",\n          \"2024-10-23\"\n        ],\n        \"semantic_type\": \"\",\n        \"description\": \"\"\n      }\n    },\n    {\n      \"column\": \"AUD\",\n      \"properties\": {\n        \"dtype\": \"number\",\n        \"std\": 0.021308785544341617,\n        \"min\": 1.44291733,\n        \"max\": 1.52222863,\n        \"num_unique_values\": 31,\n        \"samples\": [\n          1.51408791,\n          1.48630522,\n          1.49894787\n        ],\n        \"semantic_type\": \"\",\n        \"description\": \"\"\n      }\n    },\n    {\n      \"column\": \"BRL\",\n      \"properties\": {\n        \"dtype\": \"number\",\n        \"std\": 0.10472482634736213,\n        \"min\": 5.42544359,\n        \"max\": 5.76165416,\n        \"num_unique_values\": 31,\n        \"samples\": [\n          5.70799397,\n          5.59620116,\n          5.6908529\n        ],\n        \"semantic_type\": \"\",\n        \"description\": \"\"\n      }\n    },\n    {\n      \"column\": \"CAD\",\n      \"properties\": {\n        \"dtype\": \"number\",\n        \"std\": 0.013313179988145189,\n        \"min\": 1.34806274,\n        \"max\": 1.39096452,\n        \"num_unique_values\": 31,\n        \"samples\": [\n          1.38922053,\n          1.37982254,\n          1.38264702\n        ],\n        \"semantic_type\": \"\",\n        \"description\": \"\"\n      }\n    },\n    {\n      \"column\": \"EUR\",\n      \"properties\": {\n        \"dtype\": \"number\",\n        \"std\": 0.008550515643954485,\n        \"min\": 0.89559079,\n        \"max\": 0.92731603,\n        \"num_unique_values\": 31,\n        \"samples\": [\n          0.92613451,\n          0.91679196,\n          0.92626801\n        ],\n        \"semantic_type\": \"\",\n        \"description\": \"\"\n      }\n    },\n    {\n      \"column\": \"GBP\",\n      \"properties\": {\n        \"dtype\": \"number\",\n        \"std\": 0.006680932903989834,\n        \"min\": 0.7469564,\n        \"max\": 0.77392797,\n        \"num_unique_values\": 31,\n        \"samples\": [\n          0.77150191,\n          0.76530613,\n          0.77060666\n        ],\n        \"semantic_type\": \"\",\n        \"description\": \"\"\n      }\n    },\n    {\n      \"column\": \"JPY\",\n      \"properties\": {\n        \"dtype\": \"number\",\n        \"std\": 2.6862159245282737,\n        \"min\": 142.57326795,\n        \"max\": 153.80061303,\n        \"num_unique_values\": 31,\n        \"samples\": [\n          152.28365669,\n          149.52312563,\n          151.74464545\n        ],\n        \"semantic_type\": \"\",\n        \"description\": \"\"\n      }\n    },\n    {\n      \"column\": \"MXN\",\n      \"properties\": {\n        \"dtype\": \"number\",\n        \"std\": 0.2834542257082265,\n        \"min\": 19.26349685,\n        \"max\": 20.04875616,\n        \"num_unique_values\": 31,\n        \"samples\": [\n          19.96816685,\n          19.41673691,\n          19.96714783\n        ],\n        \"semantic_type\": \"\",\n        \"description\": \"\"\n      }\n    },\n    {\n      \"column\": \"NGN\",\n      \"properties\": {\n        \"dtype\": \"number\",\n        \"std\": 15.192760899909738,\n        \"min\": 1619.45002181,\n        \"max\": 1670.69452442,\n        \"num_unique_values\": 31,\n        \"samples\": [\n          1636.42098454,\n          1635.13496135,\n          1644.8250444\n        ],\n        \"semantic_type\": \"\",\n        \"description\": \"\"\n      }\n    },\n    {\n      \"column\": \"RUB\",\n      \"properties\": {\n        \"dtype\": \"number\",\n        \"std\": 1.073513637880348,\n        \"min\": 92.89851937,\n        \"max\": 97.50146263,\n        \"num_unique_values\": 31,\n        \"samples\": [\n          97.21362311,\n          95.16561319,\n          95.74932304\n        ],\n        \"semantic_type\": \"\",\n        \"description\": \"\"\n      }\n    },\n    {\n      \"column\": \"SGD\",\n      \"properties\": {\n        \"dtype\": \"number\",\n        \"std\": 0.011289739189059456,\n        \"min\": 1.28015594,\n        \"max\": 1.32459602,\n        \"num_unique_values\": 31,\n        \"samples\": [\n          1.32125293,\n          1.30804757,\n          1.31758573\n        ],\n        \"semantic_type\": \"\",\n        \"description\": \"\"\n      }\n    },\n    {\n      \"column\": \"USD\",\n      \"properties\": {\n        \"dtype\": \"number\",\n        \"std\": 0,\n        \"min\": 1,\n        \"max\": 1,\n        \"num_unique_values\": 1,\n        \"samples\": [\n          1\n        ],\n        \"semantic_type\": \"\",\n        \"description\": \"\"\n      }\n    }\n  ]\n}"
            }
          },
          "metadata": {},
          "execution_count": 8
        }
      ]
    },
    {
      "cell_type": "code",
      "source": [
        "currency_df.shape"
      ],
      "metadata": {
        "colab": {
          "base_uri": "https://localhost:8080/"
        },
        "id": "59z47tp5hvsQ",
        "outputId": "8d99a13e-4fd6-497e-fc25-cef461ce7d47"
      },
      "execution_count": null,
      "outputs": [
        {
          "output_type": "execute_result",
          "data": {
            "text/plain": [
              "(31, 12)"
            ]
          },
          "metadata": {},
          "execution_count": 9
        }
      ]
    },
    {
      "cell_type": "code",
      "source": [
        "transactions_df.isnull().sum()"
      ],
      "metadata": {
        "colab": {
          "base_uri": "https://localhost:8080/",
          "height": 930
        },
        "id": "8_JVkc9-my4f",
        "outputId": "903fbd89-8464-4506-a5be-7783ea6c34e6"
      },
      "execution_count": null,
      "outputs": [
        {
          "output_type": "execute_result",
          "data": {
            "text/plain": [
              "transaction_id                          0\n",
              "customer_id                             0\n",
              "card_number                             0\n",
              "timestamp                               0\n",
              "vendor_category                         0\n",
              "vendor_type                             0\n",
              "vendor                                  0\n",
              "amount                                  0\n",
              "currency                                0\n",
              "country                                 0\n",
              "city                                    0\n",
              "city_size                               0\n",
              "card_type                               0\n",
              "is_card_present                         0\n",
              "device                                  0\n",
              "channel                                 0\n",
              "device_fingerprint                      0\n",
              "ip_address                              0\n",
              "is_outside_home_country                 0\n",
              "is_high_risk_vendor                     0\n",
              "is_weekend                              0\n",
              "is_fraud                                0\n",
              "last_hour_activity.num_transactions     0\n",
              "last_hour_activity.total_amount         0\n",
              "last_hour_activity.unique_merchants     0\n",
              "last_hour_activity.unique_countries     0\n",
              "last_hour_activity.max_single_amount    0\n",
              "dtype: int64"
            ],
            "text/html": [
              "<div>\n",
              "<style scoped>\n",
              "    .dataframe tbody tr th:only-of-type {\n",
              "        vertical-align: middle;\n",
              "    }\n",
              "\n",
              "    .dataframe tbody tr th {\n",
              "        vertical-align: top;\n",
              "    }\n",
              "\n",
              "    .dataframe thead th {\n",
              "        text-align: right;\n",
              "    }\n",
              "</style>\n",
              "<table border=\"1\" class=\"dataframe\">\n",
              "  <thead>\n",
              "    <tr style=\"text-align: right;\">\n",
              "      <th></th>\n",
              "      <th>0</th>\n",
              "    </tr>\n",
              "  </thead>\n",
              "  <tbody>\n",
              "    <tr>\n",
              "      <th>transaction_id</th>\n",
              "      <td>0</td>\n",
              "    </tr>\n",
              "    <tr>\n",
              "      <th>customer_id</th>\n",
              "      <td>0</td>\n",
              "    </tr>\n",
              "    <tr>\n",
              "      <th>card_number</th>\n",
              "      <td>0</td>\n",
              "    </tr>\n",
              "    <tr>\n",
              "      <th>timestamp</th>\n",
              "      <td>0</td>\n",
              "    </tr>\n",
              "    <tr>\n",
              "      <th>vendor_category</th>\n",
              "      <td>0</td>\n",
              "    </tr>\n",
              "    <tr>\n",
              "      <th>vendor_type</th>\n",
              "      <td>0</td>\n",
              "    </tr>\n",
              "    <tr>\n",
              "      <th>vendor</th>\n",
              "      <td>0</td>\n",
              "    </tr>\n",
              "    <tr>\n",
              "      <th>amount</th>\n",
              "      <td>0</td>\n",
              "    </tr>\n",
              "    <tr>\n",
              "      <th>currency</th>\n",
              "      <td>0</td>\n",
              "    </tr>\n",
              "    <tr>\n",
              "      <th>country</th>\n",
              "      <td>0</td>\n",
              "    </tr>\n",
              "    <tr>\n",
              "      <th>city</th>\n",
              "      <td>0</td>\n",
              "    </tr>\n",
              "    <tr>\n",
              "      <th>city_size</th>\n",
              "      <td>0</td>\n",
              "    </tr>\n",
              "    <tr>\n",
              "      <th>card_type</th>\n",
              "      <td>0</td>\n",
              "    </tr>\n",
              "    <tr>\n",
              "      <th>is_card_present</th>\n",
              "      <td>0</td>\n",
              "    </tr>\n",
              "    <tr>\n",
              "      <th>device</th>\n",
              "      <td>0</td>\n",
              "    </tr>\n",
              "    <tr>\n",
              "      <th>channel</th>\n",
              "      <td>0</td>\n",
              "    </tr>\n",
              "    <tr>\n",
              "      <th>device_fingerprint</th>\n",
              "      <td>0</td>\n",
              "    </tr>\n",
              "    <tr>\n",
              "      <th>ip_address</th>\n",
              "      <td>0</td>\n",
              "    </tr>\n",
              "    <tr>\n",
              "      <th>is_outside_home_country</th>\n",
              "      <td>0</td>\n",
              "    </tr>\n",
              "    <tr>\n",
              "      <th>is_high_risk_vendor</th>\n",
              "      <td>0</td>\n",
              "    </tr>\n",
              "    <tr>\n",
              "      <th>is_weekend</th>\n",
              "      <td>0</td>\n",
              "    </tr>\n",
              "    <tr>\n",
              "      <th>is_fraud</th>\n",
              "      <td>0</td>\n",
              "    </tr>\n",
              "    <tr>\n",
              "      <th>last_hour_activity.num_transactions</th>\n",
              "      <td>0</td>\n",
              "    </tr>\n",
              "    <tr>\n",
              "      <th>last_hour_activity.total_amount</th>\n",
              "      <td>0</td>\n",
              "    </tr>\n",
              "    <tr>\n",
              "      <th>last_hour_activity.unique_merchants</th>\n",
              "      <td>0</td>\n",
              "    </tr>\n",
              "    <tr>\n",
              "      <th>last_hour_activity.unique_countries</th>\n",
              "      <td>0</td>\n",
              "    </tr>\n",
              "    <tr>\n",
              "      <th>last_hour_activity.max_single_amount</th>\n",
              "      <td>0</td>\n",
              "    </tr>\n",
              "  </tbody>\n",
              "</table>\n",
              "</div><br><label><b>dtype:</b> int64</label>"
            ]
          },
          "metadata": {},
          "execution_count": 10
        }
      ]
    },
    {
      "cell_type": "markdown",
      "source": [
        "# Обработка прочитанных данных"
      ],
      "metadata": {
        "id": "k7y9kSse7Qoi"
      }
    },
    {
      "cell_type": "code",
      "source": [
        "# Приводим дату транзакции и дату курсов валют к одному формату\n",
        "transactions_df[\"date\"] = transactions_df[\"timestamp\"].dt.date\n",
        "currency_df[\"date\"] = pd.to_datetime(currency_df[\"date\"]).dt.date"
      ],
      "metadata": {
        "id": "JnHazDumnGVU"
      },
      "execution_count": null,
      "outputs": []
    },
    {
      "cell_type": "code",
      "source": [
        "transactions_df.columns"
      ],
      "metadata": {
        "id": "bceD-JyZwEE5"
      },
      "execution_count": null,
      "outputs": []
    },
    {
      "cell_type": "markdown",
      "source": [
        "Для скорости на больших данных лучше использовать именно словарь, который релизует логику хеш-таблиц для быстрого доступа по ключу."
      ],
      "metadata": {
        "id": "XBfvxMKm9hjn"
      }
    },
    {
      "cell_type": "code",
      "source": [
        "# 1. Приводим дату транзакции к дате без времени\n",
        "transactions_df['date_only'] = transactions_df['timestamp'].dt.floor('D')\n",
        "\n",
        "# 2. Преобразуем currency_df в словарь {(date, currency): rate}\n",
        "currency_dict = {\n",
        "    (row.date, currency): row[currency]\n",
        "    for _, row in currency_df.iterrows()\n",
        "    for currency in currency_df.columns if currency != 'date'\n",
        "}\n",
        "\n",
        "# 3. Создаём Series с ключами для поиска в словаре\n",
        "keys = pd.Series(list(zip(transactions_df['date_only'], transactions_df['currency'])))\n",
        "\n",
        "# 4. Векторизованно применяем словарь с помощью map\n",
        "rates = keys.map(currency_dict)\n",
        "\n",
        "# 5. Пересчитываем amount в USD\n",
        "transactions_df['amount_usd'] = transactions_df['amount'] / rates\n",
        "\n",
        "# 6. Удаляем временный столбец\n",
        "transactions_df.drop(columns='date_only', inplace=True)"
      ],
      "metadata": {
        "id": "S6a7Hdka6xGg"
      },
      "execution_count": null,
      "outputs": []
    },
    {
      "cell_type": "code",
      "source": [
        "transactions_df[['amount','amount_usd']]"
      ],
      "metadata": {
        "colab": {
          "base_uri": "https://localhost:8080/",
          "height": 423
        },
        "id": "0ym3njug7ZoD",
        "outputId": "81a05435-eee9-4d9e-d5d9-b50701559410"
      },
      "execution_count": null,
      "outputs": [
        {
          "output_type": "execute_result",
          "data": {
            "text/plain": [
              "            amount  amount_usd\n",
              "0           294.87  394.658011\n",
              "1          3368.97  619.905757\n",
              "2        102582.38  719.506409\n",
              "3           630.60  436.808287\n",
              "4        724949.27  434.430069\n",
              "...            ...         ...\n",
              "7483761     887.32  670.362079\n",
              "7483762     356.06  385.402905\n",
              "7483763     391.96  296.122166\n",
              "7483764     601.71  601.710000\n",
              "7483765   40668.06  265.526634\n",
              "\n",
              "[7483766 rows x 2 columns]"
            ],
            "text/html": [
              "\n",
              "  <div id=\"df-271b435d-9b04-40f1-8e55-1b8aeb890286\" class=\"colab-df-container\">\n",
              "    <div>\n",
              "<style scoped>\n",
              "    .dataframe tbody tr th:only-of-type {\n",
              "        vertical-align: middle;\n",
              "    }\n",
              "\n",
              "    .dataframe tbody tr th {\n",
              "        vertical-align: top;\n",
              "    }\n",
              "\n",
              "    .dataframe thead th {\n",
              "        text-align: right;\n",
              "    }\n",
              "</style>\n",
              "<table border=\"1\" class=\"dataframe\">\n",
              "  <thead>\n",
              "    <tr style=\"text-align: right;\">\n",
              "      <th></th>\n",
              "      <th>amount</th>\n",
              "      <th>amount_usd</th>\n",
              "    </tr>\n",
              "  </thead>\n",
              "  <tbody>\n",
              "    <tr>\n",
              "      <th>0</th>\n",
              "      <td>294.87</td>\n",
              "      <td>394.658011</td>\n",
              "    </tr>\n",
              "    <tr>\n",
              "      <th>1</th>\n",
              "      <td>3368.97</td>\n",
              "      <td>619.905757</td>\n",
              "    </tr>\n",
              "    <tr>\n",
              "      <th>2</th>\n",
              "      <td>102582.38</td>\n",
              "      <td>719.506409</td>\n",
              "    </tr>\n",
              "    <tr>\n",
              "      <th>3</th>\n",
              "      <td>630.60</td>\n",
              "      <td>436.808287</td>\n",
              "    </tr>\n",
              "    <tr>\n",
              "      <th>4</th>\n",
              "      <td>724949.27</td>\n",
              "      <td>434.430069</td>\n",
              "    </tr>\n",
              "    <tr>\n",
              "      <th>...</th>\n",
              "      <td>...</td>\n",
              "      <td>...</td>\n",
              "    </tr>\n",
              "    <tr>\n",
              "      <th>7483761</th>\n",
              "      <td>887.32</td>\n",
              "      <td>670.362079</td>\n",
              "    </tr>\n",
              "    <tr>\n",
              "      <th>7483762</th>\n",
              "      <td>356.06</td>\n",
              "      <td>385.402905</td>\n",
              "    </tr>\n",
              "    <tr>\n",
              "      <th>7483763</th>\n",
              "      <td>391.96</td>\n",
              "      <td>296.122166</td>\n",
              "    </tr>\n",
              "    <tr>\n",
              "      <th>7483764</th>\n",
              "      <td>601.71</td>\n",
              "      <td>601.710000</td>\n",
              "    </tr>\n",
              "    <tr>\n",
              "      <th>7483765</th>\n",
              "      <td>40668.06</td>\n",
              "      <td>265.526634</td>\n",
              "    </tr>\n",
              "  </tbody>\n",
              "</table>\n",
              "<p>7483766 rows × 2 columns</p>\n",
              "</div>\n",
              "    <div class=\"colab-df-buttons\">\n",
              "\n",
              "  <div class=\"colab-df-container\">\n",
              "    <button class=\"colab-df-convert\" onclick=\"convertToInteractive('df-271b435d-9b04-40f1-8e55-1b8aeb890286')\"\n",
              "            title=\"Convert this dataframe to an interactive table.\"\n",
              "            style=\"display:none;\">\n",
              "\n",
              "  <svg xmlns=\"http://www.w3.org/2000/svg\" height=\"24px\" viewBox=\"0 -960 960 960\">\n",
              "    <path d=\"M120-120v-720h720v720H120Zm60-500h600v-160H180v160Zm220 220h160v-160H400v160Zm0 220h160v-160H400v160ZM180-400h160v-160H180v160Zm440 0h160v-160H620v160ZM180-180h160v-160H180v160Zm440 0h160v-160H620v160Z\"/>\n",
              "  </svg>\n",
              "    </button>\n",
              "\n",
              "  <style>\n",
              "    .colab-df-container {\n",
              "      display:flex;\n",
              "      gap: 12px;\n",
              "    }\n",
              "\n",
              "    .colab-df-convert {\n",
              "      background-color: #E8F0FE;\n",
              "      border: none;\n",
              "      border-radius: 50%;\n",
              "      cursor: pointer;\n",
              "      display: none;\n",
              "      fill: #1967D2;\n",
              "      height: 32px;\n",
              "      padding: 0 0 0 0;\n",
              "      width: 32px;\n",
              "    }\n",
              "\n",
              "    .colab-df-convert:hover {\n",
              "      background-color: #E2EBFA;\n",
              "      box-shadow: 0px 1px 2px rgba(60, 64, 67, 0.3), 0px 1px 3px 1px rgba(60, 64, 67, 0.15);\n",
              "      fill: #174EA6;\n",
              "    }\n",
              "\n",
              "    .colab-df-buttons div {\n",
              "      margin-bottom: 4px;\n",
              "    }\n",
              "\n",
              "    [theme=dark] .colab-df-convert {\n",
              "      background-color: #3B4455;\n",
              "      fill: #D2E3FC;\n",
              "    }\n",
              "\n",
              "    [theme=dark] .colab-df-convert:hover {\n",
              "      background-color: #434B5C;\n",
              "      box-shadow: 0px 1px 3px 1px rgba(0, 0, 0, 0.15);\n",
              "      filter: drop-shadow(0px 1px 2px rgba(0, 0, 0, 0.3));\n",
              "      fill: #FFFFFF;\n",
              "    }\n",
              "  </style>\n",
              "\n",
              "    <script>\n",
              "      const buttonEl =\n",
              "        document.querySelector('#df-271b435d-9b04-40f1-8e55-1b8aeb890286 button.colab-df-convert');\n",
              "      buttonEl.style.display =\n",
              "        google.colab.kernel.accessAllowed ? 'block' : 'none';\n",
              "\n",
              "      async function convertToInteractive(key) {\n",
              "        const element = document.querySelector('#df-271b435d-9b04-40f1-8e55-1b8aeb890286');\n",
              "        const dataTable =\n",
              "          await google.colab.kernel.invokeFunction('convertToInteractive',\n",
              "                                                    [key], {});\n",
              "        if (!dataTable) return;\n",
              "\n",
              "        const docLinkHtml = 'Like what you see? Visit the ' +\n",
              "          '<a target=\"_blank\" href=https://colab.research.google.com/notebooks/data_table.ipynb>data table notebook</a>'\n",
              "          + ' to learn more about interactive tables.';\n",
              "        element.innerHTML = '';\n",
              "        dataTable['output_type'] = 'display_data';\n",
              "        await google.colab.output.renderOutput(dataTable, element);\n",
              "        const docLink = document.createElement('div');\n",
              "        docLink.innerHTML = docLinkHtml;\n",
              "        element.appendChild(docLink);\n",
              "      }\n",
              "    </script>\n",
              "  </div>\n",
              "\n",
              "\n",
              "    <div id=\"df-77b655d0-229c-4e1d-a013-e197383140d3\">\n",
              "      <button class=\"colab-df-quickchart\" onclick=\"quickchart('df-77b655d0-229c-4e1d-a013-e197383140d3')\"\n",
              "                title=\"Suggest charts\"\n",
              "                style=\"display:none;\">\n",
              "\n",
              "<svg xmlns=\"http://www.w3.org/2000/svg\" height=\"24px\"viewBox=\"0 0 24 24\"\n",
              "     width=\"24px\">\n",
              "    <g>\n",
              "        <path d=\"M19 3H5c-1.1 0-2 .9-2 2v14c0 1.1.9 2 2 2h14c1.1 0 2-.9 2-2V5c0-1.1-.9-2-2-2zM9 17H7v-7h2v7zm4 0h-2V7h2v10zm4 0h-2v-4h2v4z\"/>\n",
              "    </g>\n",
              "</svg>\n",
              "      </button>\n",
              "\n",
              "<style>\n",
              "  .colab-df-quickchart {\n",
              "      --bg-color: #E8F0FE;\n",
              "      --fill-color: #1967D2;\n",
              "      --hover-bg-color: #E2EBFA;\n",
              "      --hover-fill-color: #174EA6;\n",
              "      --disabled-fill-color: #AAA;\n",
              "      --disabled-bg-color: #DDD;\n",
              "  }\n",
              "\n",
              "  [theme=dark] .colab-df-quickchart {\n",
              "      --bg-color: #3B4455;\n",
              "      --fill-color: #D2E3FC;\n",
              "      --hover-bg-color: #434B5C;\n",
              "      --hover-fill-color: #FFFFFF;\n",
              "      --disabled-bg-color: #3B4455;\n",
              "      --disabled-fill-color: #666;\n",
              "  }\n",
              "\n",
              "  .colab-df-quickchart {\n",
              "    background-color: var(--bg-color);\n",
              "    border: none;\n",
              "    border-radius: 50%;\n",
              "    cursor: pointer;\n",
              "    display: none;\n",
              "    fill: var(--fill-color);\n",
              "    height: 32px;\n",
              "    padding: 0;\n",
              "    width: 32px;\n",
              "  }\n",
              "\n",
              "  .colab-df-quickchart:hover {\n",
              "    background-color: var(--hover-bg-color);\n",
              "    box-shadow: 0 1px 2px rgba(60, 64, 67, 0.3), 0 1px 3px 1px rgba(60, 64, 67, 0.15);\n",
              "    fill: var(--button-hover-fill-color);\n",
              "  }\n",
              "\n",
              "  .colab-df-quickchart-complete:disabled,\n",
              "  .colab-df-quickchart-complete:disabled:hover {\n",
              "    background-color: var(--disabled-bg-color);\n",
              "    fill: var(--disabled-fill-color);\n",
              "    box-shadow: none;\n",
              "  }\n",
              "\n",
              "  .colab-df-spinner {\n",
              "    border: 2px solid var(--fill-color);\n",
              "    border-color: transparent;\n",
              "    border-bottom-color: var(--fill-color);\n",
              "    animation:\n",
              "      spin 1s steps(1) infinite;\n",
              "  }\n",
              "\n",
              "  @keyframes spin {\n",
              "    0% {\n",
              "      border-color: transparent;\n",
              "      border-bottom-color: var(--fill-color);\n",
              "      border-left-color: var(--fill-color);\n",
              "    }\n",
              "    20% {\n",
              "      border-color: transparent;\n",
              "      border-left-color: var(--fill-color);\n",
              "      border-top-color: var(--fill-color);\n",
              "    }\n",
              "    30% {\n",
              "      border-color: transparent;\n",
              "      border-left-color: var(--fill-color);\n",
              "      border-top-color: var(--fill-color);\n",
              "      border-right-color: var(--fill-color);\n",
              "    }\n",
              "    40% {\n",
              "      border-color: transparent;\n",
              "      border-right-color: var(--fill-color);\n",
              "      border-top-color: var(--fill-color);\n",
              "    }\n",
              "    60% {\n",
              "      border-color: transparent;\n",
              "      border-right-color: var(--fill-color);\n",
              "    }\n",
              "    80% {\n",
              "      border-color: transparent;\n",
              "      border-right-color: var(--fill-color);\n",
              "      border-bottom-color: var(--fill-color);\n",
              "    }\n",
              "    90% {\n",
              "      border-color: transparent;\n",
              "      border-bottom-color: var(--fill-color);\n",
              "    }\n",
              "  }\n",
              "</style>\n",
              "\n",
              "      <script>\n",
              "        async function quickchart(key) {\n",
              "          const quickchartButtonEl =\n",
              "            document.querySelector('#' + key + ' button');\n",
              "          quickchartButtonEl.disabled = true;  // To prevent multiple clicks.\n",
              "          quickchartButtonEl.classList.add('colab-df-spinner');\n",
              "          try {\n",
              "            const charts = await google.colab.kernel.invokeFunction(\n",
              "                'suggestCharts', [key], {});\n",
              "          } catch (error) {\n",
              "            console.error('Error during call to suggestCharts:', error);\n",
              "          }\n",
              "          quickchartButtonEl.classList.remove('colab-df-spinner');\n",
              "          quickchartButtonEl.classList.add('colab-df-quickchart-complete');\n",
              "        }\n",
              "        (() => {\n",
              "          let quickchartButtonEl =\n",
              "            document.querySelector('#df-77b655d0-229c-4e1d-a013-e197383140d3 button');\n",
              "          quickchartButtonEl.style.display =\n",
              "            google.colab.kernel.accessAllowed ? 'block' : 'none';\n",
              "        })();\n",
              "      </script>\n",
              "    </div>\n",
              "    </div>\n",
              "  </div>\n"
            ],
            "application/vnd.google.colaboratory.intrinsic+json": {
              "type": "dataframe"
            }
          },
          "metadata": {},
          "execution_count": 14
        }
      ]
    },
    {
      "cell_type": "markdown",
      "source": [
        "# Задания с тестирования"
      ],
      "metadata": {
        "id": "Sjd-x5H09x2b"
      }
    },
    {
      "cell_type": "markdown",
      "source": [
        "Задание 1. Доля мошеннических транзацкий."
      ],
      "metadata": {
        "id": "X0ZOdqyK9Q8X"
      }
    },
    {
      "cell_type": "code",
      "source": [
        "fraud_ratio = transactions_df['is_fraud'].mean()\n",
        "print(f\"Доля мошеннических транзакций: {fraud_ratio:.4f} ({fraud_ratio*100:.2f}%)\")"
      ],
      "metadata": {
        "colab": {
          "base_uri": "https://localhost:8080/"
        },
        "id": "Ng8mvqet7d2b",
        "outputId": "8fde4fe4-6fa1-444a-eae4-285f0b6d5ed7"
      },
      "execution_count": null,
      "outputs": [
        {
          "output_type": "stream",
          "name": "stdout",
          "text": [
            "Доля мошеннических транзакций: 0.1997 (19.97%)\n"
          ]
        }
      ]
    },
    {
      "cell_type": "markdown",
      "source": [
        "Задание 2. В каких топ-5 странах зафиксировано больше всего мошеннических транзакций?"
      ],
      "metadata": {
        "id": "4MsYiWv7-IDE"
      }
    },
    {
      "cell_type": "code",
      "source": [
        "fraud_counts = (\n",
        "    transactions_df[transactions_df['is_fraud']]\n",
        "    .groupby('country')\n",
        "    .size()\n",
        "    .sort_values(ascending=False)\n",
        ")\n",
        "\n",
        "print(fraud_counts.head(5))"
      ],
      "metadata": {
        "colab": {
          "base_uri": "https://localhost:8080/"
        },
        "id": "pdLounS3-BDe",
        "outputId": "f8e7f4ac-4d28-4d38-8378-6298fcabd5f5"
      },
      "execution_count": null,
      "outputs": [
        {
          "output_type": "stream",
          "name": "stdout",
          "text": [
            "country\n",
            "Russia       299425\n",
            "Mexico       298841\n",
            "Brazil       298629\n",
            "Nigeria      298600\n",
            "Australia     37652\n",
            "dtype: int64\n"
          ]
        }
      ]
    },
    {
      "cell_type": "markdown",
      "source": [
        "Задание 3. Сколько транзакций в среднем совершает один клиент за час?"
      ],
      "metadata": {
        "id": "V0eZcE_P-d6_"
      }
    },
    {
      "cell_type": "code",
      "source": [
        "transactions_df['hour'] = transactions_df['timestamp'].dt.floor('H')\n",
        "avg = transactions_df.groupby(['customer_id', 'hour']).size().mean()\n"
      ],
      "metadata": {
        "colab": {
          "base_uri": "https://localhost:8080/"
        },
        "id": "GujpvmQQ-s70",
        "outputId": "7c19a352-9efa-4c73-f7b3-77fb03890569"
      },
      "execution_count": null,
      "outputs": [
        {
          "output_type": "stream",
          "name": "stderr",
          "text": [
            "/tmp/ipython-input-4244079133.py:1: FutureWarning: 'H' is deprecated and will be removed in a future version, please use 'h' instead.\n",
            "  transactions_df['hour'] = transactions_df['timestamp'].dt.floor('H')\n"
          ]
        }
      ]
    },
    {
      "cell_type": "code",
      "source": [
        "print(avg)"
      ],
      "metadata": {
        "colab": {
          "base_uri": "https://localhost:8080/"
        },
        "id": "gRKviywL-_Xu",
        "outputId": "c9b7c672-f72f-402d-91e6-64e8f164bae4"
      },
      "execution_count": null,
      "outputs": [
        {
          "output_type": "stream",
          "name": "stdout",
          "text": [
            "2.4527761909397174\n"
          ]
        }
      ]
    },
    {
      "cell_type": "markdown",
      "source": [
        "Задание 4. Какова доля мошенничества среди транзакций у продавцов с высоким риском (is_high_risk_vendor=True)?"
      ],
      "metadata": {
        "id": "A7GVETRRAYvh"
      }
    },
    {
      "cell_type": "code",
      "source": [
        "high_risk = transactions_df[transactions_df['is_high_risk_vendor'] == True]\n",
        "fraud_ratio_high_risk = high_risk['is_fraud'].mean()\n",
        "print(f\"Доля мошенничества у продавцов с высоким риском: {fraud_ratio_high_risk:.4f} ({fraud_ratio_high_risk*100:.2f}%)\")"
      ],
      "metadata": {
        "colab": {
          "base_uri": "https://localhost:8080/"
        },
        "id": "WZ2VlEOUASca",
        "outputId": "216adbde-5d3c-4e0a-9942-b042def59a82"
      },
      "execution_count": null,
      "outputs": [
        {
          "output_type": "stream",
          "name": "stdout",
          "text": [
            "Доля мошенничества у продавцов с высоким риском: 0.2000 (20.00%)\n"
          ]
        }
      ]
    },
    {
      "cell_type": "markdown",
      "source": [
        "Задание 5. В каком городе наибольшая средняя сумма транзакций?"
      ],
      "metadata": {
        "id": "hpHozGUWAjK7"
      }
    },
    {
      "cell_type": "code",
      "source": [
        "avg_amount_by_city = transactions_df.groupby('city')['amount'].mean().sort_values(ascending=False)\n",
        "print(avg_amount_by_city)\n"
      ],
      "metadata": {
        "colab": {
          "base_uri": "https://localhost:8080/"
        },
        "id": "a2mDSXt5AgjR",
        "outputId": "c36ca542-79ae-479a-916f-2dec813aa430"
      },
      "execution_count": null,
      "outputs": [
        {
          "output_type": "stream",
          "name": "stdout",
          "text": [
            "city\n",
            "Unknown City    51315.780071\n",
            "New York          568.872467\n",
            "San Antonio       567.921894\n",
            "San Jose          567.263760\n",
            "Phoenix           565.730142\n",
            "San Diego         565.593140\n",
            "Chicago           565.277374\n",
            "Houston           564.961388\n",
            "Los Angeles       563.900769\n",
            "Philadelphia      563.464431\n",
            "Dallas            562.399533\n",
            "Name: amount, dtype: float64\n"
          ]
        }
      ]
    },
    {
      "cell_type": "markdown",
      "source": [
        "Задание 6. В каком городе выше всего средний чек по операциям, связанным с fast_food?"
      ],
      "metadata": {
        "id": "teahxFHHA5mN"
      }
    },
    {
      "cell_type": "code",
      "source": [
        "top_city = (\n",
        "    transactions_df.loc[transactions_df['vendor_type'] == 'fast_food']\n",
        "    .groupby('city')['amount']\n",
        "    .mean().sort_values(ascending=False)\n",
        ")\n",
        "print(top_city)"
      ],
      "metadata": {
        "colab": {
          "base_uri": "https://localhost:8080/"
        },
        "id": "JSOYcXawArX8",
        "outputId": "7911935a-1a5c-4e41-e608-9411b90c2f00"
      },
      "execution_count": null,
      "outputs": [
        {
          "output_type": "stream",
          "name": "stdout",
          "text": [
            "city\n",
            "Unknown City    15214.407916\n",
            "Chicago           264.450281\n",
            "New York          263.296441\n",
            "San Antonio       258.169691\n",
            "Los Angeles       255.950324\n",
            "San Diego         254.343884\n",
            "Dallas            248.685716\n",
            "San Jose          247.892502\n",
            "Houston           246.913137\n",
            "Philadelphia      243.440463\n",
            "Phoenix           242.334715\n",
            "Name: amount, dtype: float64\n"
          ]
        }
      ]
    },
    {
      "cell_type": "markdown",
      "source": [
        "Задание 7. Каково среднее для всех немошеннических операций при пересчете в доллары США?"
      ],
      "metadata": {
        "id": "g6lcKEXBBuSS"
      }
    },
    {
      "cell_type": "code",
      "source": [
        "transactions_df[transactions_df['is_fraud']==0]['amount_usd'].mean()"
      ],
      "metadata": {
        "colab": {
          "base_uri": "https://localhost:8080/"
        },
        "id": "0vhtzs6nBXYE",
        "outputId": "04a150f3-d821-4f14-b495-7398cf7f33d3"
      },
      "execution_count": null,
      "outputs": [
        {
          "output_type": "execute_result",
          "data": {
            "text/plain": [
              "np.float64(459.7826108501768)"
            ]
          },
          "metadata": {},
          "execution_count": 22
        }
      ]
    },
    {
      "cell_type": "markdown",
      "source": [
        "Задание 8. Каково среднеквадратичное отклонение среди всех немошеннических операций при пересчете в доллары США?"
      ],
      "metadata": {
        "id": "rV8AwhsrDi7F"
      }
    },
    {
      "cell_type": "code",
      "source": [
        "transactions_df[transactions_df['is_fraud']==0]['amount_usd'].std()"
      ],
      "metadata": {
        "colab": {
          "base_uri": "https://localhost:8080/"
        },
        "id": "QAKbCiAOB2a2",
        "outputId": "b066665f-7211-4dd0-f71c-14fa016c02fa"
      },
      "execution_count": null,
      "outputs": [
        {
          "output_type": "execute_result",
          "data": {
            "text/plain": [
              "417.0077334756002"
            ]
          },
          "metadata": {},
          "execution_count": 23
        }
      ]
    },
    {
      "cell_type": "markdown",
      "source": [
        "Задание 9. Каково среднее для всех мошеннических операций при пересчете в доллары США?"
      ],
      "metadata": {
        "id": "o-BG-CycD3rg"
      }
    },
    {
      "cell_type": "code",
      "source": [
        "transactions_df[transactions_df['is_fraud']==1]['amount_usd'].mean()"
      ],
      "metadata": {
        "colab": {
          "base_uri": "https://localhost:8080/"
        },
        "id": "Wt1zC4XYDrIq",
        "outputId": "cd4101bf-4845-47d2-f731-ef5ac6e62814"
      },
      "execution_count": null,
      "outputs": [
        {
          "output_type": "execute_result",
          "data": {
            "text/plain": [
              "np.float64(874.6067503080812)"
            ]
          },
          "metadata": {},
          "execution_count": 24
        }
      ]
    },
    {
      "cell_type": "markdown",
      "source": [
        "Задание 10. Каково среднеквадратичное отклонение среди всех мошеннических операций при пересчете в доллары США?"
      ],
      "metadata": {
        "id": "z3fUoZQrEWZb"
      }
    },
    {
      "cell_type": "code",
      "source": [
        "transactions_df[transactions_df['is_fraud']==1]['amount_usd'].std()"
      ],
      "metadata": {
        "colab": {
          "base_uri": "https://localhost:8080/"
        },
        "id": "97xBXWm2D-Wf",
        "outputId": "83c5c976-2019-4bfc-fd4f-2bbb6fd4d1ef"
      },
      "execution_count": null,
      "outputs": [
        {
          "output_type": "execute_result",
          "data": {
            "text/plain": [
              "1349.8826922066885"
            ]
          },
          "metadata": {},
          "execution_count": 25
        }
      ]
    },
    {
      "cell_type": "markdown",
      "source": [
        "Задание 11.\n"
      ],
      "metadata": {
        "id": "PGnxU1VdFRUI"
      }
    },
    {
      "cell_type": "code",
      "source": [
        "# 1. Группируем по клиенту и считаем медиану уникальных продавцов\n",
        "median_unique_merchants = transactions_df.groupby('customer_id')['last_hour_activity.unique_merchants'].median()\n",
        "\n",
        "# 2. Находим 95-й перцентиль медиан\n",
        "threshold = median_unique_merchants.quantile(0.95)\n",
        "\n",
        "# 3. Считаем клиентов с медианой выше порога\n",
        "count_risky_clients = (median_unique_merchants > threshold).sum()\n",
        "\n",
        "print(f\"Клиентов с потенциально опасным поведением: {count_risky_clients}\")"
      ],
      "metadata": {
        "colab": {
          "base_uri": "https://localhost:8080/"
        },
        "id": "FW28GOT7EbW_",
        "outputId": "2b798875-9f83-41ff-9513-f7b4e530cd11"
      },
      "execution_count": null,
      "outputs": [
        {
          "output_type": "stream",
          "name": "stdout",
          "text": [
            "Клиентов с потенциально опасным поведением: 229\n"
          ]
        }
      ]
    },
    {
      "cell_type": "code",
      "source": [],
      "metadata": {
        "colab": {
          "base_uri": "https://localhost:8080/"
        },
        "id": "iWF0_zLDFS_4",
        "outputId": "4d0fc6cf-400f-4bda-d6cc-dd3fb4c76411"
      },
      "execution_count": null,
      "outputs": [
        {
          "output_type": "execute_result",
          "data": {
            "text/plain": [
              "Index(['transaction_id', 'customer_id', 'card_number', 'timestamp',\n",
              "       'vendor_category', 'vendor_type', 'vendor', 'amount', 'currency',\n",
              "       'country', 'city', 'city_size', 'card_type', 'is_card_present',\n",
              "       'device', 'channel', 'device_fingerprint', 'ip_address',\n",
              "       'is_outside_home_country', 'is_high_risk_vendor', 'is_weekend',\n",
              "       'is_fraud', 'last_hour_activity.num_transactions',\n",
              "       'last_hour_activity.total_amount',\n",
              "       'last_hour_activity.unique_merchants',\n",
              "       'last_hour_activity.unique_countries',\n",
              "       'last_hour_activity.max_single_amount', 'date', 'amount_usd', 'hour'],\n",
              "      dtype='object')"
            ]
          },
          "metadata": {},
          "execution_count": 27
        }
      ]
    },
    {
      "cell_type": "code",
      "source": [],
      "metadata": {
        "id": "pl_1sF9bFXn5"
      },
      "execution_count": null,
      "outputs": []
    }
  ]
}